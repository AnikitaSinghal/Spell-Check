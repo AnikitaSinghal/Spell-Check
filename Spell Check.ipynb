{
 "cells": [
  {
   "cell_type": "code",
   "execution_count": 1,
   "metadata": {},
   "outputs": [
    {
     "name": "stdout",
     "output_type": "stream",
     "text": [
      "Requirement already satisfied: textblob in c:\\users\\dell\\documents\\downloads\\lib\\site-packages (0.15.3)\n",
      "Requirement already satisfied: nltk>=3.1 in c:\\users\\dell\\documents\\downloads\\lib\\site-packages (from textblob) (3.5)\n",
      "Requirement already satisfied: tqdm in c:\\users\\dell\\documents\\downloads\\lib\\site-packages (from nltk>=3.1->textblob) (4.47.0)\n",
      "Requirement already satisfied: click in c:\\users\\dell\\documents\\downloads\\lib\\site-packages (from nltk>=3.1->textblob) (7.1.2)\n",
      "Requirement already satisfied: regex in c:\\users\\dell\\documents\\downloads\\lib\\site-packages (from nltk>=3.1->textblob) (2020.6.8)\n",
      "Note: you may need to restart the kernel to use updated packages.\n",
      "Requirement already satisfied: joblib in c:\\users\\dell\\documents\\downloads\\lib\\site-packages (from nltk>=3.1->textblob) (0.16.0)\n"
     ]
    }
   ],
   "source": [
    "pip install textblob"
   ]
  },
  {
   "cell_type": "code",
   "execution_count": 2,
   "metadata": {},
   "outputs": [],
   "source": [
    "from tkinter import *\n",
    "from textblob import TextBlob"
   ]
  },
  {
   "cell_type": "code",
   "execution_count": 3,
   "metadata": {},
   "outputs": [],
   "source": [
    "def check_spelling():\n",
    "    txt=entry_widget.get()\n",
    "    a=TextBlob(txt)\n",
    "    if a.correct()==txt:\n",
    "        spell=Label(window,text=\"Spelling is correct\",font=(\"Arial\",30,\"bold\"),bg=\"gray\")\n",
    "        spell.pack()\n",
    "    else:\n",
    "        spell=Label(window,text=\"The correct spelling is: \",font=(\"Arial\",30,\"bold\"),bg=\"gray\")\n",
    "        spell.pack()\n",
    "        correct_text=Label(window,text=str(a.correct()),font=(\"Arial\",45,\"bold\"),bg=\"Lightpink\")\n",
    "        correct_text.pack()\n",
    "window=Tk()\n",
    "window.title(\"MY SPELLING CHECKER\")\n",
    "window.geometry(\"800x600\")\n",
    "window.config(bg=\"Lightgreen\")\n",
    "text_heading=Label(window,text=\"SPELLING CHECKER\",font=(\"Arial\",50,\"bold\"),bg=\"black\",fg=\"Lightpink\")\n",
    "text_heading.pack()\n",
    "text_check=Label(window,text=\"Enter the spelling\",font=(\"Arial\",30,\"bold\"),bg=\"yellow\",fg=\"Red\")\n",
    "text_check.pack()\n",
    "entry_widget=Entry(window,font=(\"Arial\",45,\"bold\"),width=500,bg=\"Lightblue\")\n",
    "entry_widget.pack()\n",
    "check_button=Button(window,text=\"CHECK!!\",font=(\"Arial\",30,\"bold\"),fg=\"white\",bg=\"red\",command=check_spelling)\n",
    "check_button.pack()\n",
    "spell=Label(window,text=\"The spelling is correct: \",font=(\"Arial\",30,\"bold\"),bg=\"Lightgreen\")\n",
    "spell.pack()\n",
    "\n",
    "window.mainloop()"
   ]
  },
  {
   "cell_type": "code",
   "execution_count": 4,
   "metadata": {},
   "outputs": [],
   "source": [
    "def check_spelling():\n",
    "    a=TextBlob(entry_widget.get())\n",
    "    if a==True:\n",
    "        print(\"correct spelling\")\n",
    "    else:\n",
    "        spell=Label(window,text=\"The correct spelling is: \",font=(\"Arial\",30,\"bold\"),bg=\"gray\")\n",
    "        spell.pack()\n",
    "        correct_text=Label(window,text=str(a.correct()),font=(\"Arial\",45,\"bold\"),bg=\"Lightpink\")\n",
    "        correct_text.pack()\n",
    "window=Tk()\n",
    "window.title(\"MY SPELLING CHECKER\")\n",
    "window.geometry(\"800x600\")\n",
    "window.config(bg=\"Lightgreen\")\n",
    "text_heading=Label(window,text=\"SPELLING CHECKER\",font=(\"Arial\",50,\"bold\"),bg=\"black\",fg=\"Lightpink\")\n",
    "text_heading.pack()\n",
    "text_check=Label(window,text=\"Enter the spelling\",font=(\"Arial\",30,\"bold\"),bg=\"yellow\",fg=\"Red\")\n",
    "text_check.pack()\n",
    "entry_widget=Entry(window,font=(\"Arial\",45,\"bold\"),width=500,bg=\"Lightblue\")\n",
    "entry_widget.pack()\n",
    "check_button=Button(window,text=\"CHECK!!\",font=(\"Arial\",30,\"bold\"),fg=\"white\",bg=\"red\",command=check_spelling)\n",
    "check_button.pack()\n",
    "window.mainloop()"
   ]
  },
  {
   "cell_type": "code",
   "execution_count": null,
   "metadata": {},
   "outputs": [],
   "source": []
  }
 ],
 "metadata": {
  "kernelspec": {
   "display_name": "Python 3",
   "language": "python",
   "name": "python3"
  },
  "language_info": {
   "codemirror_mode": {
    "name": "ipython",
    "version": 3
   },
   "file_extension": ".py",
   "mimetype": "text/x-python",
   "name": "python",
   "nbconvert_exporter": "python",
   "pygments_lexer": "ipython3",
   "version": "3.8.3"
  }
 },
 "nbformat": 4,
 "nbformat_minor": 4
}
